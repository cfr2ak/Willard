{
 "cells": [
  {
   "cell_type": "code",
   "execution_count": null,
   "metadata": {},
   "outputs": [],
   "source": [
    "import plotly.express as px\n",
    "import pandas as pd\n",
    "\n",
    "a = 13\n",
    "N = 15\n",
    "\n",
    "\n",
    "mod = []\n",
    "x = list(range(30))\n",
    "for i in x:\n",
    "    mod.append((a ** i) % N)\n",
    "\n",
    "df = pd.DataFrame({\n",
    "    'x': x,\n",
    "    f'{a}^x mod {N}': mod\n",
    "})\n",
    "\n",
    "fig = px.bar(df, x='x', y=f'{a}^x mod {N}')\n",
    "fig.show()\n"
   ]
  }
 ],
 "metadata": {
  "language_info": {
   "name": "python"
  },
  "orig_nbformat": 4
 },
 "nbformat": 4,
 "nbformat_minor": 2
}
